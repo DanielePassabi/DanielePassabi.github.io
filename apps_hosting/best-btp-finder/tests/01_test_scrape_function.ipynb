{
 "cells": [
  {
   "cell_type": "markdown",
   "metadata": {},
   "source": [
    "## **Best BTP Finder**\n",
    "\n",
    "Testiamo la funzione all'interno di `scrape.py`, al fine di capirne appieno il funzionamento."
   ]
  },
  {
   "cell_type": "markdown",
   "metadata": {},
   "source": [
    "#### **Import Libraries**\n",
    "\n",
    "Per testarla, dobbiamo importare l'handler."
   ]
  },
  {
   "cell_type": "code",
   "execution_count": null,
   "metadata": {},
   "outputs": [],
   "source": [
    "# ugly fix for easier import\n",
    "import sys\n",
    "my_path = 'C:/Users/danyp/Documents/Programmazione/Github/repos/DanielePassabi.github.io/apps/best-btp-finder/src/functions'\n",
    "sys.path.append(my_path)\n",
    "\n",
    "from scrape import handler\n",
    "print('Function Imported')"
   ]
  },
  {
   "cell_type": "markdown",
   "metadata": {},
   "source": [
    "#### **Test Function**\n",
    "\n",
    "Ora possiamo testarla."
   ]
  },
  {
   "cell_type": "code",
   "execution_count": null,
   "metadata": {},
   "outputs": [],
   "source": [
    "res = handler(event='fake_event', context='fake_context')"
   ]
  },
  {
   "cell_type": "code",
   "execution_count": null,
   "metadata": {},
   "outputs": [],
   "source": [
    "type(res)"
   ]
  },
  {
   "cell_type": "code",
   "execution_count": null,
   "metadata": {},
   "outputs": [],
   "source": [
    "res"
   ]
  }
 ],
 "metadata": {
  "kernelspec": {
   "display_name": "DANY_PY9",
   "language": "python",
   "name": "python3"
  },
  "language_info": {
   "codemirror_mode": {
    "name": "ipython",
    "version": 3
   },
   "file_extension": ".py",
   "mimetype": "text/x-python",
   "name": "python",
   "nbconvert_exporter": "python",
   "pygments_lexer": "ipython3",
   "version": "3.9.18"
  },
  "orig_nbformat": 4
 },
 "nbformat": 4,
 "nbformat_minor": 2
}
