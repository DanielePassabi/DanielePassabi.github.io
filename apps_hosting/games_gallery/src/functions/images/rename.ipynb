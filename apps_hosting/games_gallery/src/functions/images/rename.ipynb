{
 "cells": [
  {
   "cell_type": "code",
   "execution_count": null,
   "metadata": {},
   "outputs": [],
   "source": [
    "import os\n",
    "\n",
    "def rename_files_in_folder(folder_path):\n",
    "    \"\"\"\n",
    "    Rename all files in a folder by removing their last 3 characters.\n",
    "\n",
    "    Parameters\n",
    "    ----------\n",
    "    folder_path : str\n",
    "        The path of the folder containing the files to be renamed.\n",
    "\n",
    "    Returns\n",
    "    -------\n",
    "    None\n",
    "\n",
    "    Examples\n",
    "    --------\n",
    "    >>> rename_files_in_folder(\"/path/to/folder\")\n",
    "    \"\"\"\n",
    "    if not os.path.isdir(folder_path):\n",
    "        print(\"Provided path is not a directory.\")\n",
    "        return\n",
    "\n",
    "    for filename in os.listdir(folder_path):\n",
    "        # Construct the full file path\n",
    "        full_file_path = os.path.join(folder_path, filename)\n",
    "\n",
    "        if os.path.isfile(full_file_path):\n",
    "            # Remove the last 3 characters from the filename\n",
    "            new_filename = filename[:-8] + '.jpg'\n",
    "\n",
    "            # Construct the full path for the new file\n",
    "            new_file_path = os.path.join(folder_path, new_filename)\n",
    "\n",
    "            # Rename the file\n",
    "            os.rename(full_file_path, new_file_path)\n",
    "            print(f\"Renamed {filename} to {new_filename}\")"
   ]
  },
  {
   "cell_type": "code",
   "execution_count": null,
   "metadata": {},
   "outputs": [],
   "source": [
    "rename_files_in_folder('apps_hosting/games_gallery/src/functions/images_lowres/2023')"
   ]
  }
 ],
 "metadata": {
  "kernelspec": {
   "display_name": "AVATAR_PY9",
   "language": "python",
   "name": "python3"
  },
  "language_info": {
   "codemirror_mode": {
    "name": "ipython",
    "version": 3
   },
   "file_extension": ".py",
   "mimetype": "text/x-python",
   "name": "python",
   "nbconvert_exporter": "python",
   "pygments_lexer": "ipython3",
   "version": "3.9.17"
  }
 },
 "nbformat": 4,
 "nbformat_minor": 2
}
